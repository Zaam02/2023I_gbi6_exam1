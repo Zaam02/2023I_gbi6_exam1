{
 "cells": [
  {
   "attachments": {},
   "cell_type": "markdown",
   "metadata": {
    "id": "CEZHzeOFsfj6"
   },
   "source": [
    "<img src=\"https://eventos.ikiam.edu.ec/event/39/attachments/193/261/Logo_Ikiam_2020.png\" width=780 height=450 />\n",
    "\n",
    "\n",
    "# EXAMEN PARCIAL PYTHON\n",
    "    \n",
    "\n",
    "## GBI6 - BIOINFORMÁTICA\n",
    "\n",
    "**Zamora Pozo Camila Alexandra**\n",
    "\n",
    "**CI.** 2400047649\n",
    "\n",
    "\n",
    "**01 de Julio de 2023**"
   ]
  },
  {
   "cell_type": "markdown",
   "metadata": {
    "id": "tGwhY7HlsfkC"
   },
   "source": [
    "## Ejercicio 0.1 [0.5 puntos]\n",
    "Realice cambios al cuaderno de jupyter: \n",
    "- Agregue el logo de la Universidad\n",
    "- Coloque sus datos personales \n",
    "- Use el terminal para crear las carpetas `results` y `data`.\n",
    "- Use el terminal y mueva `gstm.txt` que tiene un listado de accesiones de glutathione transferase a la carpeta `data`.\n"
   ]
  },
  {
   "cell_type": "code",
   "execution_count": 2,
   "metadata": {},
   "outputs": [
    {
     "name": "stdout",
     "output_type": "stream",
     "text": [
      "Collecting biopython\n",
      "  Downloading biopython-1.81-cp310-cp310-manylinux_2_17_x86_64.manylinux2014_x86_64.whl (3.1 MB)\n",
      "\u001b[2K     \u001b[90m━━━━━━━━━━━━━━━━━━━━━━━━━━━━━━━━━━━━━━━━\u001b[0m \u001b[32m3.1/3.1 MB\u001b[0m \u001b[31m30.8 MB/s\u001b[0m eta \u001b[36m0:00:00\u001b[0m00:01\u001b[0m00:01\u001b[0m\n",
      "\u001b[?25hRequirement already satisfied: numpy in /home/codespace/.local/lib/python3.10/site-packages (from biopython) (1.24.3)\n",
      "Installing collected packages: biopython\n",
      "Successfully installed biopython-1.81\n",
      "Requirement already satisfied: pandas in /home/codespace/.local/lib/python3.10/site-packages (2.0.2)\n",
      "Requirement already satisfied: python-dateutil>=2.8.2 in /home/codespace/.local/lib/python3.10/site-packages (from pandas) (2.8.2)\n",
      "Requirement already satisfied: pytz>=2020.1 in /home/codespace/.local/lib/python3.10/site-packages (from pandas) (2023.3)\n",
      "Requirement already satisfied: tzdata>=2022.1 in /home/codespace/.local/lib/python3.10/site-packages (from pandas) (2023.3)\n",
      "Requirement already satisfied: numpy>=1.21.0 in /home/codespace/.local/lib/python3.10/site-packages (from pandas) (1.24.3)\n",
      "Requirement already satisfied: six>=1.5 in /home/codespace/.local/lib/python3.10/site-packages (from python-dateutil>=2.8.2->pandas) (1.16.0)\n"
     ]
    }
   ],
   "source": [
    "!pip install biopython\n",
    "!pip install pandas"
   ]
  },
  {
   "cell_type": "markdown",
   "metadata": {
    "id": "zXz2VQ92sfkE"
   },
   "source": [
    "## Ejercicio 1 [4.0 puntos]\n",
    "\n",
    "Cargue el módulo `popsimulate`, luego: \n",
    "\n",
    "1.1. explique lo que hace cada línea de la función `build_population`, simule un ejemplo y explique el resultado. \n",
    "\n",
    "1.2. explique lo que hace cada línea de la función `compute_frequencies`, simule un ejemplo y explique el resultado. \n",
    "\n",
    "1.3. explique lo que hace cada línea de la función `reproduce_population`, simule un ejemplo y explique el resultado. \n",
    "\n",
    "1.4. explique lo que hace cada línea de la función `simulate_drift`, simule un ejemplo y explique el resultado. "
   ]
  },
  {
   "cell_type": "code",
   "execution_count": 1,
   "metadata": {
    "id": "6nZuF5_ksfkF"
   },
   "outputs": [],
   "source": [
    "# Escriba aquí su código para el ejercicio 1\n",
    "import popsimulate"
   ]
  },
  {
   "cell_type": "code",
   "execution_count": 2,
   "metadata": {},
   "outputs": [
    {
     "data": {
      "text/plain": [
       "[('a', 'A'),\n",
       " ('a', 'A'),\n",
       " ('A', 'a'),\n",
       " ('A', 'A'),\n",
       " ('A', 'A'),\n",
       " ('a', 'A'),\n",
       " ('A', 'A'),\n",
       " ('A', 'A'),\n",
       " ('a', 'a'),\n",
       " ('A', 'A'),\n",
       " ('A', 'A'),\n",
       " ('A', 'A'),\n",
       " ('a', 'A'),\n",
       " ('A', 'A'),\n",
       " ('A', 'A'),\n",
       " ('A', 'a'),\n",
       " ('A', 'a'),\n",
       " ('A', 'a'),\n",
       " ('A', 'A'),\n",
       " ('a', 'A'),\n",
       " ('a', 'a'),\n",
       " ('A', 'a'),\n",
       " ('a', 'A'),\n",
       " ('a', 'a'),\n",
       " ('A', 'a'),\n",
       " ('a', 'a'),\n",
       " ('A', 'A'),\n",
       " ('a', 'A'),\n",
       " ('a', 'A'),\n",
       " ('a', 'a'),\n",
       " ('A', 'A'),\n",
       " ('A', 'A'),\n",
       " ('A', 'a'),\n",
       " ('a', 'A'),\n",
       " ('A', 'A'),\n",
       " ('A', 'A'),\n",
       " ('A', 'A'),\n",
       " ('A', 'a'),\n",
       " ('a', 'A'),\n",
       " ('A', 'A'),\n",
       " ('A', 'A'),\n",
       " ('A', 'a'),\n",
       " ('A', 'A'),\n",
       " ('a', 'a'),\n",
       " ('a', 'A'),\n",
       " ('A', 'A'),\n",
       " ('A', 'A'),\n",
       " ('a', 'a'),\n",
       " ('A', 'A'),\n",
       " ('A', 'a'),\n",
       " ('A', 'a'),\n",
       " ('a', 'A'),\n",
       " ('A', 'a'),\n",
       " ('a', 'A'),\n",
       " ('A', 'A'),\n",
       " ('a', 'A'),\n",
       " ('a', 'A'),\n",
       " ('a', 'A'),\n",
       " ('a', 'a'),\n",
       " ('a', 'A'),\n",
       " ('A', 'A'),\n",
       " ('A', 'A'),\n",
       " ('A', 'a'),\n",
       " ('A', 'A'),\n",
       " ('a', 'a'),\n",
       " ('A', 'A'),\n",
       " ('A', 'A'),\n",
       " ('A', 'a'),\n",
       " ('a', 'a'),\n",
       " ('A', 'a'),\n",
       " ('A', 'A'),\n",
       " ('a', 'A'),\n",
       " ('a', 'a'),\n",
       " ('A', 'A'),\n",
       " ('A', 'A'),\n",
       " ('a', 'A'),\n",
       " ('a', 'A'),\n",
       " ('A', 'A'),\n",
       " ('a', 'a'),\n",
       " ('A', 'A'),\n",
       " ('a', 'A'),\n",
       " ('A', 'A'),\n",
       " ('A', 'A'),\n",
       " ('A', 'a'),\n",
       " ('A', 'A'),\n",
       " ('a', 'a'),\n",
       " ('A', 'A'),\n",
       " ('A', 'a'),\n",
       " ('A', 'a'),\n",
       " ('A', 'A'),\n",
       " ('a', 'A'),\n",
       " ('A', 'A'),\n",
       " ('A', 'a'),\n",
       " ('A', 'A'),\n",
       " ('a', 'a'),\n",
       " ('A', 'a'),\n",
       " ('A', 'a'),\n",
       " ('A', 'a'),\n",
       " ('a', 'A'),\n",
       " ('A', 'A')]"
      ]
     },
     "execution_count": 2,
     "metadata": {},
     "output_type": "execute_result"
    }
   ],
   "source": [
    "popsimulate.build_population(100, 0.7)"
   ]
  },
  {
   "cell_type": "code",
   "execution_count": 4,
   "metadata": {},
   "outputs": [
    {
     "data": {
      "text/plain": [
       "{'AA': 10, 'aa': 3, 'Aa': 6, 'aA': 6}"
      ]
     },
     "execution_count": 4,
     "metadata": {},
     "output_type": "execute_result"
    }
   ],
   "source": [
    "popsimulate.compute_frequencies([('a', 'A'),\n",
    " ('a', 'A'),\n",
    " ('A', 'a'),\n",
    " ('A', 'A'),\n",
    " ('A', 'A'),\n",
    " ('a', 'A'),\n",
    " ('A', 'A'),\n",
    " ('A', 'A'),\n",
    " ('a', 'a'),\n",
    " ('A', 'A'),\n",
    " ('A', 'A'),\n",
    " ('A', 'A'),\n",
    " ('a', 'A'),\n",
    " ('A', 'A'),\n",
    " ('A', 'A'),\n",
    " ('A', 'a'),\n",
    " ('A', 'a'),\n",
    " ('A', 'a'),\n",
    " ('A', 'A'),\n",
    " ('a', 'A'),\n",
    " ('a', 'a'),\n",
    " ('A', 'a'),\n",
    " ('a', 'A'),\n",
    " ('a', 'a'),\n",
    " ('A', 'a')])"
   ]
  },
  {
   "cell_type": "code",
   "execution_count": 5,
   "metadata": {},
   "outputs": [
    {
     "data": {
      "text/plain": [
       "[('A', 'a'), ('a', 'a'), ('a', 'A')]"
      ]
     },
     "execution_count": 5,
     "metadata": {},
     "output_type": "execute_result"
    }
   ],
   "source": [
    "popsimulate.reproduce_population([(\"A\", \"A\"), (\"A\", \"a\"), (\"a\", \"A\")])"
   ]
  },
  {
   "cell_type": "code",
   "execution_count": 7,
   "metadata": {},
   "outputs": [
    {
     "name": "stdout",
     "output_type": "stream",
     "text": [
      "An allele reached fixation at generation 126\n",
      "The genotype counts are\n",
      "{'AA': 0, 'aa': 100, 'Aa': 0, 'aA': 0}\n"
     ]
    },
    {
     "data": {
      "text/plain": [
       "(126, {'AA': 0, 'aa': 100, 'Aa': 0, 'aA': 0})"
      ]
     },
     "execution_count": 7,
     "metadata": {},
     "output_type": "execute_result"
    }
   ],
   "source": [
    "popsimulate.simulate_drift(100, 0.5)"
   ]
  },
  {
   "cell_type": "markdown",
   "metadata": {
    "id": "Hs7dXkwxsfkG"
   },
   "source": [
    "## Ejercicio 2 [5.0 puntos]\n",
    "\n",
    "Cree el modulo `glutransferase.py` y genere las siguientes funciones:\n",
    "\n",
    "2.1. `source` que se conecte al `NCBI` y `Nucleotide` para extraer el nombre del organismo fuente y que cuente la frecuencia de cada especie. Guarde el resultado en `results/source.csv`\n",
    "\n",
    "2.2. `sequences` que se conecte al `NCBI` y `Nucleotide` para extraer la secuencia de ADN, que se realice la traducción y separación de péptidos. Asegurarse que los péptidos empiezan en metionina. Luego calcule `molecular weight` e `instability index`. Genere un `joinplot` utilizando los valores de peso molecular e índice de estabilidad. Edite color, tamaño y tipo de puntos, asimismo etiquete adecuadamente el título y los ejes. Guarde los resultados en `results/glupeptides.csv` y `results/glupeptides.png`.\n",
    "\n",
    "**No escriba las funciones en este cuaderno de jupyter**\n",
    "\n",
    "2.3. Use la lista de accesiones en `data/gstm.txt`, cargue el módulo `glutransferase` y ejecute las dos funciones. "
   ]
  },
  {
   "cell_type": "code",
   "execution_count": null,
   "metadata": {
    "id": "AG42g3o2sfkJ"
   },
   "outputs": [],
   "source": [
    "# Escriba aquí su código para el ejercicio 2\n",
    "import modulo\n",
    "\n"
   ]
  },
  {
   "cell_type": "markdown",
   "metadata": {
    "id": "-MaHCuV8sfkP"
   },
   "source": [
    "## Ejercicio 0.2 [0.5 puntos]\n",
    "\n",
    "\n",
    "1. Cree un archivo ```Readme.md``` que debe tener lo siguiente:\n",
    "- Datos personales\n",
    "- Características del computador\n",
    "- Versión de Python/Anaconda y de cada uno de los módulos/paquetes y utilizados\n",
    "- Explicación de la data utilizada\n",
    "\n",
    "2. Realice al menos 1 control de la versión (commits) por cada ejercicio (del 1 al 5), con un mensaje que inicie como: \n",
    "\n",
    "```sh \n",
    "Carlitos Alimaña ha realizado el ejercicio 1.1  \n",
    "```\n",
    "```sh \n",
    "Carlitos Alimaña ha realizado el ejercicio 2.1\n",
    "```\n",
    "```sh \n",
    "...\n",
    "```\n"
   ]
  }
 ],
 "metadata": {
  "colab": {
   "provenance": []
  },
  "kernelspec": {
   "display_name": "Python 3 (ipykernel)",
   "language": "python",
   "name": "python3"
  },
  "language_info": {
   "codemirror_mode": {
    "name": "ipython",
    "version": 3
   },
   "file_extension": ".py",
   "mimetype": "text/x-python",
   "name": "python",
   "nbconvert_exporter": "python",
   "pygments_lexer": "ipython3",
   "version": "3.10.8"
  },
  "latex_envs": {
   "LaTeX_envs_menu_present": true,
   "autoclose": false,
   "autocomplete": true,
   "bibliofile": "biblio.bib",
   "cite_by": "apalike",
   "current_citInitial": 1,
   "eqLabelWithNumbers": true,
   "eqNumInitial": 1,
   "hotkeys": {
    "equation": "Ctrl-E",
    "itemize": "Ctrl-I"
   },
   "labels_anchors": false,
   "latex_user_defs": false,
   "report_style_numbering": false,
   "user_envs_cfg": false
  },
  "toc": {
   "base_numbering": 1,
   "nav_menu": {},
   "number_sections": true,
   "sideBar": false,
   "skip_h1_title": false,
   "title_cell": "Table of Contents",
   "title_sidebar": "Contents",
   "toc_cell": false,
   "toc_position": {
    "height": "1152.67px",
    "left": "41px",
    "top": "110px",
    "width": "253.458px"
   },
   "toc_section_display": true,
   "toc_window_display": false
  },
  "varInspector": {
   "cols": {
    "lenName": 16,
    "lenType": 16,
    "lenVar": 40
   },
   "kernels_config": {
    "python": {
     "delete_cmd_postfix": "",
     "delete_cmd_prefix": "del ",
     "library": "var_list.py",
     "varRefreshCmd": "print(var_dic_list())"
    },
    "r": {
     "delete_cmd_postfix": ") ",
     "delete_cmd_prefix": "rm(",
     "library": "var_list.r",
     "varRefreshCmd": "cat(var_dic_list()) "
    }
   },
   "types_to_exclude": [
    "module",
    "function",
    "builtin_function_or_method",
    "instance",
    "_Feature"
   ],
   "window_display": false
  }
 },
 "nbformat": 4,
 "nbformat_minor": 1
}
